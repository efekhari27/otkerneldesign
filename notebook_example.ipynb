{
 "cells": [
  {
   "cell_type": "code",
   "execution_count": 1,
   "metadata": {},
   "outputs": [],
   "source": [
    "import openturns as ot\n",
    "import otkerneldesign as otkd"
   ]
  },
  {
   "cell_type": "code",
   "execution_count": 2,
   "metadata": {},
   "outputs": [],
   "source": [
    "size = 20\n",
    "dimension = 2\n",
    "distribution = ot.ComposedDistribution([ot.Uniform(0.0, 1.0)] * dimension)\n",
    "ker_list = [ot.MaternModel([0.1], [1.0], 2.5)] * dimension\n",
    "kernel = ot.ProductCovarianceModel(ker_list)\n",
    "\n",
    "kh = otkd.KernelHerding(\n",
    "    kernel=kernel,\n",
    "    candidate_set_size=2 ** 12,\n",
    "    distribution=distribution\n",
    ")\n",
    "uniform_design_points, uniform_design_indexes = kh.select_design(size)"
   ]
  },
  {
   "cell_type": "code",
   "execution_count": 3,
   "metadata": {},
   "outputs": [
    {
     "data": {
      "text/html": [
       "<TABLE><TR><TD></TD><TH>v0</TH><TH>v1</TH></TR>\n",
       "<TR><TH>0</TH><TD>0.5</TD><TD>0.5</TD></TR>\n",
       "<TR><TH>1</TH><TD>0.78125</TD><TD>0.78125</TD></TR>\n",
       "<TR><TH>2</TH><TD>0.2409668</TD><TD>0.2336426</TD></TR>\n",
       "<TR><TH>3</TH><TD>0.2370605</TD><TD>0.7687988</TD></TR>\n",
       "<TR><TH>4</TH><TD>0.7558594</TD><TD>0.2480469</TD></TR>\n",
       "<TR><TH>5</TH><TD>0.1062012</TD><TD>0.489502</TD></TR>\n",
       "<TR><TH>6</TH><TD>0.5014648</TD><TD>0.8764648</TD></TR>\n",
       "<TR><TH>7</TH><TD>0.8735352</TD><TD>0.5043945</TD></TR>\n",
       "<TR><TH>8</TH><TD>0.5004883</TD><TD>0.1274414</TD></TR>\n",
       "<TR><TH>9</TH><TD>0.9121094</TD><TD>0.09179688</TD></TR>\n",
       "<TR><TH>10</TH><TD>0.6394043</TD><TD>0.6477051</TD></TR>\n",
       "<TR><TH>11</TH><TD>0.08789062</TD><TD>0.08789062</TD></TR>\n",
       "<TR><TH>12</TH><TD>0.3537598</TD><TD>0.3845215</TD></TR>\n",
       "<TR><TH>13</TH><TD>0.09545898</TD><TD>0.9084473</TD></TR>\n",
       "<TR><TH>14</TH><TD>0.3620605</TD><TD>0.6437988</TD></TR>\n",
       "<TR><TH>15</TH><TD>0.635498</TD><TD>0.3547363</TD></TR>\n",
       "<TR><TH>16</TH><TD>0.9082031</TD><TD>0.9082031</TD></TR>\n",
       "<TR><TH>17</TH><TD>0.6774902</TD><TD>0.04516602</TD></TR>\n",
       "<TR><TH>18</TH><TD>0.9528809</TD><TD>0.3322754</TD></TR>\n",
       "<TR><TH>19</TH><TD>0.07055664</TD><TD>0.6677246</TD></TR>\n",
       "</TABLE>"
      ],
      "text/plain": [
       "class=Sample name=Unnamed implementation=class=SampleImplementation name=Unnamed size=20 dimension=2 data=[[0.5,0.5],[0.78125,0.78125],[0.240967,0.233643],[0.237061,0.768799],[0.755859,0.248047],[0.106201,0.489502],[0.501465,0.876465],[0.873535,0.504395],[0.500488,0.127441],[0.912109,0.0917969],[0.639404,0.647705],[0.0878906,0.0878906],[0.35376,0.384521],[0.095459,0.908447],[0.362061,0.643799],[0.635498,0.354736],[0.908203,0.908203],[0.67749,0.045166],[0.952881,0.332275],[0.0705566,0.667725]]"
      ]
     },
     "execution_count": 3,
     "metadata": {},
     "output_type": "execute_result"
    }
   ],
   "source": [
    "uniform_design_points"
   ]
  },
  {
   "cell_type": "code",
   "execution_count": 4,
   "metadata": {},
   "outputs": [
    {
     "name": "stdout",
     "output_type": "stream",
     "text": [
      " 0 : [ 0.5       0.5       ]\n",
      " 1 : [ 0.78125   0.78125   ]\n",
      " 2 : [ 0.240967  0.233643  ]\n",
      " 3 : [ 0.237061  0.768799  ]\n",
      " 4 : [ 0.755859  0.248047  ]\n",
      " 5 : [ 0.106201  0.489502  ]\n",
      " 6 : [ 0.501465  0.876465  ]\n",
      " 7 : [ 0.873535  0.504395  ]\n",
      " 8 : [ 0.500488  0.127441  ]\n",
      " 9 : [ 0.912109  0.0917969 ]\n",
      "10 : [ 0.639404  0.647705  ]\n",
      "11 : [ 0.0878906 0.0878906 ]\n",
      "12 : [ 0.35376   0.384521  ]\n",
      "13 : [ 0.095459  0.908447  ]\n",
      "14 : [ 0.362061  0.643799  ]\n",
      "15 : [ 0.635498  0.354736  ]\n",
      "16 : [ 0.908203  0.908203  ]\n",
      "17 : [ 0.67749   0.045166  ]\n",
      "18 : [ 0.952881  0.332275  ]\n",
      "19 : [ 0.0705566 0.667725  ]\n"
     ]
    }
   ],
   "source": [
    "print(uniform_design_points)"
   ]
  },
  {
   "cell_type": "code",
   "execution_count": null,
   "metadata": {},
   "outputs": [],
   "source": []
  }
 ],
 "metadata": {
  "interpreter": {
   "hash": "1e41ba9edc77fa7bb7f15c4dcf3bc5e1fde8696f63c04944116d63de3aa2a8e6"
  },
  "kernelspec": {
   "display_name": "Python 3.9.6 64-bit ('uqwind': conda)",
   "language": "python",
   "name": "python3"
  },
  "language_info": {
   "codemirror_mode": {
    "name": "ipython",
    "version": 3
   },
   "file_extension": ".py",
   "mimetype": "text/x-python",
   "name": "python",
   "nbconvert_exporter": "python",
   "pygments_lexer": "ipython3",
   "version": "3.9.6"
  },
  "orig_nbformat": 4
 },
 "nbformat": 4,
 "nbformat_minor": 2
}

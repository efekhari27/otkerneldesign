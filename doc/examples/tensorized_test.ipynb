{
 "cells": [
  {
   "cell_type": "markdown",
   "metadata": {},
   "source": [
    "# Kernel herding tensorized test"
   ]
  },
  {
   "cell_type": "code",
   "execution_count": 1,
   "metadata": {},
   "outputs": [],
   "source": [
    "%matplotlib inline"
   ]
  },
  {
   "cell_type": "code",
   "execution_count": 2,
   "metadata": {},
   "outputs": [],
   "source": [
    "import openturns as ot\n",
    "import otkerneldesign as otkd\n",
    "import matplotlib.pyplot as plt\n",
    "from plotools import *"
   ]
  },
  {
   "cell_type": "markdown",
   "metadata": {},
   "source": [
    "## Independent bivariate random mixture"
   ]
  },
  {
   "cell_type": "code",
   "execution_count": 3,
   "metadata": {},
   "outputs": [],
   "source": [
    "# Random input variable definition\n",
    "# Here a random mixture\n",
    "modes = [ot.Normal(0.3, 0.12), ot.Normal(0.7, 0.1)]\n",
    "weight = [0.4, 1.0]\n",
    "mixture = ot.Mixture(modes, weight)\n",
    "normal = ot.Normal(0.6, 0.15)\n",
    "distribution = ot.ComposedDistribution([mixture, normal])"
   ]
  },
  {
   "cell_type": "code",
   "execution_count": 4,
   "metadata": {},
   "outputs": [],
   "source": [
    "dimension = distribution.getDimension()\n",
    "size = 20\n",
    "# Monte Carlo design\n",
    "mc_design = distribution.getSample(size)\n",
    "# Kernel definition\n",
    "ker_list = [ot.MaternModel([0.1], [1.0], 2.5)] * dimension\n",
    "kernel = ot.ProductCovarianceModel(ker_list)\n",
    "# Kernel herding design\n",
    "kh = otkd.KernelHerding(\n",
    "    kernel=kernel,\n",
    "    candidate_set_size=2 ** 12,\n",
    "    distribution=distribution\n",
    ")\n",
    "kh_design, _ = kh.select_design(size)\n",
    "# Tensorized kernel herding design\n",
    "kht = otkd.KernelHerdingTensorized(\n",
    "    kernel=kernel,\n",
    "    candidate_set_size=2 ** 12,\n",
    "    distribution=distribution\n",
    ")\n",
    "kht_design, _ = kh.select_design(size)"
   ]
  },
  {
   "cell_type": "code",
   "execution_count": 5,
   "metadata": {},
   "outputs": [],
   "source": [
    "candidate_points_potentials = kh.compute_target_potential()\n",
    "tensorized_candidate_points_potentials = kht.compute_target_potential()\n",
    "potentials_error = np.abs(candidate_points_potentials - tensorized_candidate_points_potentials)"
   ]
  },
  {
   "cell_type": "code",
   "execution_count": 6,
   "metadata": {},
   "outputs": [
    {
     "data": {
      "image/png": "[encoded data removed]",
      "text/plain": [
       "<Figure size 432x288 with 1 Axes>"
      ]
     },
     "metadata": {
      "needs_background": "light"
     },
     "output_type": "display_data"
    }
   ],
   "source": [
    "plt.hist(tensorized_candidate_points_potentials, bins=30);"
   ]
  },
  {
   "cell_type": "code",
   "execution_count": 7,
   "metadata": {},
   "outputs": [
    {
     "data": {
      "image/png": "[encoded data removed]",
      "text/plain": [
       "<Figure size 432x288 with 1 Axes>"
      ]
     },
     "metadata": {
      "needs_background": "light"
     },
     "output_type": "display_data"
    }
   ],
   "source": [
    "plt.hist(candidate_points_potentials, bins=30);"
   ]
  },
  {
   "cell_type": "code",
   "execution_count": 8,
   "metadata": {},
   "outputs": [
    {
     "data": {
      "image/png": "[encoded data removed]",
      "text/plain": [
       "<Figure size 432x288 with 1 Axes>"
      ]
     },
     "metadata": {
      "needs_background": "light"
     },
     "output_type": "display_data"
    }
   ],
   "source": [
    "\n",
    "plt.scatter(range(len(potentials_error)), potentials_error, marker='.');"
   ]
  },
  {
   "cell_type": "code",
   "execution_count": null,
   "metadata": {},
   "outputs": [],
   "source": []
  }
 ],
 "metadata": {
  "interpreter": {
   "hash": "1e41ba9edc77fa7bb7f15c4dcf3bc5e1fde8696f63c04944116d63de3aa2a8e6"
  },
  "kernelspec": {
   "display_name": "Python 3.9.6 64-bit ('uqwind': conda)",
   "language": "python",
   "name": "python3"
  },
  "language_info": {
   "codemirror_mode": {
    "name": "ipython",
    "version": 3
   },
   "file_extension": ".py",
   "mimetype": "text/x-python",
   "name": "python",
   "nbconvert_exporter": "python",
   "pygments_lexer": "ipython3",
   "version": "3.10.2"
  },
  "orig_nbformat": 4
 },
 "nbformat": 4,
 "nbformat_minor": 2
}

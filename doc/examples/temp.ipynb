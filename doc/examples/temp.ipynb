{
 "cells": [
  {
   "cell_type": "code",
   "execution_count": 1,
   "metadata": {},
   "outputs": [],
   "source": [
    "import numpy as np\n",
    "import openturns as ot\n",
    "import otkerneldesign as otkd\n",
    "import matplotlib.pyplot as plt\n",
    "from matplotlib import cm\n",
    "\n",
    "# %%\n",
    "# The following helper class will make plotting easier.\n",
    "\n",
    "class DrawFunctions:\n",
    "    def __init__(self):\n",
    "        dim = 2\n",
    "        self.grid_size = 100\n",
    "        lowerbound = [0.] * dim\n",
    "        upperbound = [1.] * dim\n",
    "        mesher = ot.IntervalMesher([self.grid_size-1] * dim)\n",
    "        interval = ot.Interval(lowerbound, upperbound)\n",
    "        mesh = mesher.build(interval)\n",
    "        self.nodes = mesh.getVertices()\n",
    "        self.X0, self.X1 = np.array(self.nodes).T.reshape(2, self.grid_size, self.grid_size)\n",
    "\n",
    "    def draw_2D_contour(self, title, function=None, distribution=None, colorbar=cm.coolwarm):\n",
    "        fig = plt.figure(figsize=(7, 6))\n",
    "        if distribution is not None:\n",
    "            Zpdf = np.array(distribution.computePDF(self.nodes)).reshape(self.grid_size, self.grid_size)\n",
    "            nb_isocurves = 9\n",
    "            contours = plt.contour(self.X0, self.X1, Zpdf, nb_isocurves, colors='black', alpha=0.6)\n",
    "            plt.clabel(contours, inline=True, fontsize=8)\n",
    "        if function is not None:\n",
    "            Z = np.array(function(self.nodes)).reshape(self.grid_size, self.grid_size)\n",
    "            plt.contourf(self.X0, self.X1, Z, 18, cmap=colorbar)\n",
    "            plt.colorbar()\n",
    "        plt.title(title)\n",
    "        plt.xlabel(\"$x_0$\")\n",
    "        plt.ylabel(\"$x_1$\")\n",
    "        return fig"
   ]
  },
  {
   "cell_type": "markdown",
   "metadata": {},
   "source": [
    "## 2D use-case"
   ]
  },
  {
   "cell_type": "code",
   "execution_count": null,
   "metadata": {},
   "outputs": [],
   "source": []
  },
  {
   "cell_type": "code",
   "execution_count": null,
   "metadata": {},
   "outputs": [],
   "source": []
  },
  {
   "cell_type": "code",
   "execution_count": null,
   "metadata": {},
   "outputs": [],
   "source": []
  }
 ],
 "metadata": {
  "kernelspec": {
   "display_name": "Python 3.9.13 ('otkd_dev')",
   "language": "python",
   "name": "python3"
  },
  "language_info": {
   "codemirror_mode": {
    "name": "ipython",
    "version": 3
   },
   "file_extension": ".py",
   "mimetype": "text/x-python",
   "name": "python",
   "nbconvert_exporter": "python",
   "pygments_lexer": "ipython3",
   "version": "3.9.13"
  },
  "orig_nbformat": 4,
  "vscode": {
   "interpreter": {
    "hash": "76cf64883d2cbbf2c524d837861e8f1693f47f4073ad76a066e7a1950fa88edf"
   }
  }
 },
 "nbformat": 4,
 "nbformat_minor": 2
}

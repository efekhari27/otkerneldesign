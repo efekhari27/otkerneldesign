{
 "cells": [
  {
   "cell_type": "code",
   "execution_count": 1,
   "metadata": {},
   "outputs": [],
   "source": [
    "%matplotlib inline"
   ]
  },
  {
   "cell_type": "code",
   "execution_count": 2,
   "metadata": {},
   "outputs": [],
   "source": [
    "import openturns as ot\n",
    "import numpy as np\n",
    "import otkerneldesign as otkd"
   ]
  },
  {
   "cell_type": "code",
   "execution_count": 3,
   "metadata": {},
   "outputs": [],
   "source": [
    "from matplotlib import rc, rcParams, style\n",
    "style.use('default')\n",
    "rcParams['text.usetex'] = True\n",
    "#rcParams['text.latex.unicode'] = True\n",
    "rc('font', **{'family': 'Palatino'})\n",
    "rc('text', usetex=True)\n",
    "rc('font', size=16)# Set the default text font size\n",
    "rc('axes', titlesize=20)# Set the axes title font size\n",
    "rc('axes', labelsize=16)# Set the axes labels font size\n",
    "rc('xtick', labelsize=14)# Set the font size for x tick labels\n",
    "rc('ytick', labelsize=16)# Set the font size for y tick labels\n",
    "rc('legend', fontsize=16)# Set the legend font size\n",
    "#rc('figure', titlesize='xx-large')# Set the font size of the figure title"
   ]
  },
  {
   "cell_type": "markdown",
   "metadata": {},
   "source": [
    "## Independent bivariate random mixture"
   ]
  },
  {
   "cell_type": "code",
   "execution_count": 4,
   "metadata": {},
   "outputs": [],
   "source": [
    "distribution = ot.ComposedDistribution([ot.Uniform(0., 1.)] * 5)\n",
    "dimension = distribution.getDimension()\n",
    "size = 20\n",
    "# Kernel definition\n",
    "ker_list = [ot.MaternModel([5.], [1.0], 2.5)] * dimension\n",
    "kernel = ot.ProductCovarianceModel(ker_list)\n",
    "# Kernel herding design\n",
    "kh = otkd.KernelHerding(\n",
    "    kernel=kernel,\n",
    "    candidate_set_size=1000,\n",
    "    distribution=distribution\n",
    ")\n",
    "kh_design, kh_indexes = kh.select_design(size)"
   ]
  },
  {
   "cell_type": "code",
   "execution_count": 5,
   "metadata": {},
   "outputs": [
    {
     "data": {
      "text/plain": [
       "0.008425553562883437"
      ]
     },
     "execution_count": 5,
     "metadata": {},
     "output_type": "execute_result"
    }
   ],
   "source": [
    "t1 = kh.compute_target_energy()\n",
    "t2 = kh.compute_current_energy(kh_indexes)\n",
    "t3 = np.array(kh._kernel.computeCrossCovariance(kh_design, kh._candidate_set)).mean()\n",
    "mmd2 = t1 + t2 - 2 * t3\n",
    "mmd2"
   ]
  },
  {
   "cell_type": "code",
   "execution_count": null,
   "metadata": {},
   "outputs": [],
   "source": []
  }
 ],
 "metadata": {
  "interpreter": {
   "hash": "ade2a459f0896ec1200320fa7ac05625650edb3af25c76d41e327756ba1db1d4"
  },
  "kernelspec": {
   "display_name": "Python 3.10.2 ('kh_env')",
   "language": "python",
   "name": "python3"
  },
  "language_info": {
   "codemirror_mode": {
    "name": "ipython",
    "version": 3
   },
   "file_extension": ".py",
   "mimetype": "text/x-python",
   "name": "python",
   "nbconvert_exporter": "python",
   "pygments_lexer": "ipython3",
   "version": "3.10.2"
  },
  "orig_nbformat": 4
 },
 "nbformat": 4,
 "nbformat_minor": 2
}

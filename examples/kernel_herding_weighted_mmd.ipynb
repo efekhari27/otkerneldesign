{
 "cells": [
  {
   "cell_type": "code",
   "execution_count": 1,
   "metadata": {},
   "outputs": [],
   "source": [
    "%matplotlib inline"
   ]
  },
  {
   "cell_type": "code",
   "execution_count": 2,
   "metadata": {},
   "outputs": [],
   "source": [
    "import openturns as ot\n",
    "import otkerneldesign as otkd\n",
    "from plotools import *"
   ]
  },
  {
   "cell_type": "code",
   "execution_count": 3,
   "metadata": {},
   "outputs": [],
   "source": [
    "# Random input variable definition\n",
    "dim = 2\n",
    "normal = ot.Normal(0., 1.)\n",
    "distribution = ot.ComposedDistribution([normal] * dim)"
   ]
  },
  {
   "cell_type": "code",
   "execution_count": 4,
   "metadata": {},
   "outputs": [],
   "source": [
    "dimension = distribution.getDimension()\n",
    "size = 50\n",
    "# Monte Carlo design\n",
    "mc_design = distribution.getSample(size)\n",
    "# Kernel definition\n",
    "#theta = size ** (- 1 / dim)\n",
    "theta = .2\n",
    "ker_list = [ot.MaternModel([theta], [1.0], 2.5)] * dimension\n",
    "kernel = ot.ProductCovarianceModel(ker_list)\n",
    "# Kernel herding design\n",
    "kh = otkd.KernelHerding(\n",
    "    kernel=kernel,\n",
    "    candidate_set_size=2 ** 14,\n",
    "    distribution=distribution\n",
    ")\n",
    "kh_design = kh.select_design(size)\n",
    "design_indices = kh.get_indices(kh_design)"
   ]
  },
  {
   "cell_type": "code",
   "execution_count": 5,
   "metadata": {},
   "outputs": [
    {
     "data": {
      "text/plain": [
       "array([0.01675271, 0.01665057, 0.01518865, 0.01383775, 0.0158205 ,\n",
       "       0.01480087, 0.01559782, 0.01620694, 0.01541798, 0.01368796,\n",
       "       0.01165384, 0.01387688, 0.0130089 , 0.02137719, 0.01229575,\n",
       "       0.01599904, 0.01231219, 0.01588843, 0.01298947, 0.01260147,\n",
       "       0.01215606, 0.01229941, 0.01298272, 0.01878905, 0.01296018,\n",
       "       0.01732172, 0.00908568, 0.00906918, 0.01559037, 0.01627281,\n",
       "       0.00895013, 0.01573362, 0.01551576, 0.01582467, 0.01509033,\n",
       "       0.01550598, 0.00878666, 0.01427557, 0.00755968, 0.00714525,\n",
       "       0.01400759, 0.007454  , 0.00756594, 0.00754967, 0.01288668,\n",
       "       0.00735334, 0.00755141, 0.01165134, 0.00701321, 0.01286231])"
      ]
     },
     "execution_count": 5,
     "metadata": {},
     "output_type": "execute_result"
    }
   ],
   "source": [
    "bqm = otkd.BayesianQuadrature(\n",
    "    kernel=kernel, \n",
    "    distribution=distribution, \n",
    ")\n",
    "weights = bqm.compute_bayesian_quadrature_weights(kh_design)\n",
    "weights"
   ]
  },
  {
   "cell_type": "code",
   "execution_count": 6,
   "metadata": {},
   "outputs": [
    {
     "data": {
      "text/plain": [
       "0.007042052339192306"
      ]
     },
     "execution_count": 6,
     "metadata": {},
     "output_type": "execute_result"
    }
   ],
   "source": [
    "kh.compute_mmd(design_indices)"
   ]
  },
  {
   "cell_type": "code",
   "execution_count": 7,
   "metadata": {},
   "outputs": [
    {
     "data": {
      "text/plain": [
       "0.00704205233919232"
      ]
     },
     "execution_count": 7,
     "metadata": {},
     "output_type": "execute_result"
    }
   ],
   "source": [
    "kh._compute_weighted_mmd(design_indices, np.ones(50) / 50)"
   ]
  },
  {
   "cell_type": "code",
   "execution_count": 8,
   "metadata": {},
   "outputs": [
    {
     "data": {
      "text/plain": [
       "0.003390367510133094"
      ]
     },
     "execution_count": 8,
     "metadata": {},
     "output_type": "execute_result"
    }
   ],
   "source": [
    "kh._compute_weighted_mmd(design_indices, weights)"
   ]
  },
  {
   "cell_type": "code",
   "execution_count": null,
   "metadata": {},
   "outputs": [],
   "source": []
  },
  {
   "cell_type": "code",
   "execution_count": null,
   "metadata": {},
   "outputs": [],
   "source": []
  }
 ],
 "metadata": {
  "kernelspec": {
   "display_name": "Python 3.10.2",
   "language": "python",
   "name": "python3"
  },
  "language_info": {
   "codemirror_mode": {
    "name": "ipython",
    "version": 3
   },
   "file_extension": ".py",
   "mimetype": "text/x-python",
   "name": "python",
   "nbconvert_exporter": "python",
   "pygments_lexer": "ipython3",
   "version": "3.10.2"
  },
  "orig_nbformat": 4,
  "vscode": {
   "interpreter": {
    "hash": "ade2a459f0896ec1200320fa7ac05625650edb3af25c76d41e327756ba1db1d4"
   }
  }
 },
 "nbformat": 4,
 "nbformat_minor": 2
}
